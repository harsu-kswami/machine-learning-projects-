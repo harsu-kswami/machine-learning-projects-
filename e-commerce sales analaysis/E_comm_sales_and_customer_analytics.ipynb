{
  "nbformat": 4,
  "nbformat_minor": 0,
  "metadata": {
    "colab": {
      "provenance": [],
      "gpuType": "T4"
    },
    "kernelspec": {
      "name": "python3",
      "display_name": "Python 3"
    },
    "language_info": {
      "name": "python"
    },
    "accelerator": "GPU"
  },
  "cells": [
    {
      "cell_type": "markdown",
      "source": [
        "## roadmap how to proceed this\n",
        "\n",
        "📈 E-Commerce Sales Forecasting: Project Roadmap\n",
        "This project follows a structured machine learning workflow to forecast daily sales based on historical transaction data. The process is divided into three main phases: data preparation, feature engineering, and model optimization.\n",
        "\n",
        "Phase 1: Data Preparation and Exploration\n",
        "The goal of this phase is to clean the raw data and transform it into a usable time-series format.\n",
        "\n",
        "1.1. Load Data: Import the Online Retail.xlsx dataset into a pandas DataFrame.\n",
        "\n",
        "1.2. Initial EDA (Exploratory Data Analysis): Perform an initial analysis (.info(), .describe()) to understand the data's structure, identify missing values, and spot anomalies like negative quantities.\n",
        "\n",
        "1.3. Data Cleaning: Prepare the dataset for analysis by handling missing CustomerIDs and removing returns (transactions with negative Quantity).\n",
        "\n",
        "1.4. Time-Series Aggregation: Create a Sales column (Quantity * UnitPrice) and aggregate the transactional data into a daily_sales time series.\n",
        "\n",
        "Phase 2: Advanced Feature Engineering\n",
        "The goal of this phase is to create intelligent features that provide the model with deep context about temporal patterns and events.\n",
        "\n",
        "2.1. Create Baseline Features: Generate standard time-based features (dayofweek, month, year), lag features (lag_7), and rolling window statistics (rolling_mean_7).\n",
        "\n",
        "2.2. Engineer Holiday Features:\n",
        "\n",
        "Identify all 2011 UK public holidays using the holidays library.\n",
        "\n",
        "Create a binary flag column (is_holiday) to mark these specific days.\n",
        "\n",
        "Create \"proximity\" features (days_until_christmas, days_after_christmas) to model the buildup and cooldown around the most critical sales period.\n",
        "\n",
        "2.3. Engineer Cyclical Features: Transform month and dayofweek using Sine/Cosine functions to help the model understand their cyclical nature (e.g., that December is next to January).\n",
        "\n",
        "Phase 3: Model Training and Optimization\n",
        "The goal of this phase is to train, tune, and evaluate a powerful machine learning model to get the most accurate forecast possible.\n",
        "\n",
        "3.1. Final Data Preparation: Combine all engineered features into a final feature set, drop any rows with NaN values, and perform a chronological train-test split.\n",
        "\n",
        "3.2. Model Selection: Train and evaluate baseline versions of powerful tree-based models (XGBoost and LightGBM) to select the best-performing algorithm for this dataset.\n",
        "\n",
        "3.3. Hyperparameter Tuning: Use GridSearchCV to systematically search for the optimal settings (hyperparameters) for the champion model.\n",
        "\n",
        "3.4. Final Evaluation: Train one final model using the best-found parameters and evaluate its performance on the unseen test set to determine the final R-squared (R²) and Mean Absolute Error (MAE)."
      ],
      "metadata": {
        "id": "Da2Eg7udyFTK"
      }
    },
    {
      "cell_type": "code",
      "source": [
        "\n",
        "import pandas as pd  # For loading and manipulating data (like a spreadsheet)\n",
        "import numpy as np   # For numerical operations\n",
        "import matplotlib.pyplot as plt # For creating basic plots\n",
        "import seaborn as sns # For making beautiful, advanced plots\n",
        "!pip install openpyxl\n",
        "\n",
        "\n"
      ],
      "metadata": {
        "colab": {
          "base_uri": "https://localhost:8080/"
        },
        "id": "tM-X7qdq0lZt",
        "outputId": "be14be5b-3394-40b4-8dec-7753d048a237"
      },
      "execution_count": null,
      "outputs": [
        {
          "output_type": "stream",
          "name": "stdout",
          "text": [
            "Requirement already satisfied: openpyxl in /usr/local/lib/python3.12/dist-packages (3.1.5)\n",
            "Requirement already satisfied: et-xmlfile in /usr/local/lib/python3.12/dist-packages (from openpyxl) (2.0.0)\n"
          ]
        }
      ]
    },
    {
      "cell_type": "code",
      "source": [
        "\n",
        "\n",
        "\n",
        "file_path = '/content/Online Retail.xlsx'\n",
        "\n",
        "df = pd.read_excel(file_path, engine='openpyxl')\n",
        "print(f\"✅ Data from '{file_path}' loaded successfully!\")\n"
      ],
      "metadata": {
        "colab": {
          "base_uri": "https://localhost:8080/"
        },
        "id": "SagjoI8ptUsc",
        "outputId": "030846be-fd30-42cd-9543-5fbb47922a11"
      },
      "execution_count": null,
      "outputs": [
        {
          "output_type": "stream",
          "name": "stdout",
          "text": [
            "✅ Libraries imported successfully.\n",
            "✅ Data from '/content/Online Retail.xlsx' loaded successfully!\n"
          ]
        }
      ]
    },
    {
      "cell_type": "code",
      "source": [
        "\n",
        "print(\"--- Data Info (df.info()) ---\")\n",
        "df.info()\n",
        "\n",
        "# --- Check the dimensions of the dataset ---\n",
        "print(\"\\n--- Dataset Shape ---\")\n",
        "print(f\"Rows: {df.shape[0]}, Columns: {df.shape[1]}\")"
      ],
      "metadata": {
        "colab": {
          "base_uri": "https://localhost:8080/"
        },
        "id": "NTqzn8YR1BJ0",
        "outputId": "de7f8146-50e4-4755-bd30-b834b075e606"
      },
      "execution_count": null,
      "outputs": [
        {
          "output_type": "stream",
          "name": "stdout",
          "text": [
            "--- Data Info (df.info()) ---\n",
            "<class 'pandas.core.frame.DataFrame'>\n",
            "RangeIndex: 541909 entries, 0 to 541908\n",
            "Data columns (total 8 columns):\n",
            " #   Column       Non-Null Count   Dtype         \n",
            "---  ------       --------------   -----         \n",
            " 0   InvoiceNo    541909 non-null  object        \n",
            " 1   StockCode    541909 non-null  object        \n",
            " 2   Description  540455 non-null  object        \n",
            " 3   Quantity     541909 non-null  int64         \n",
            " 4   InvoiceDate  541909 non-null  datetime64[ns]\n",
            " 5   UnitPrice    541909 non-null  float64       \n",
            " 6   CustomerID   406829 non-null  float64       \n",
            " 7   Country      541909 non-null  object        \n",
            "dtypes: datetime64[ns](1), float64(2), int64(1), object(4)\n",
            "memory usage: 33.1+ MB\n",
            "\n",
            "--- Dataset Shape ---\n",
            "Rows: 541909, Columns: 8\n"
          ]
        }
      ]
    },
    {
      "cell_type": "code",
      "source": [
        "\n",
        "# Provides count, mean, standard deviation, min, max, and quartile values.\n",
        "print(\"\\n--- Numerical Data Summary (df.describe()) ---\")\n",
        "print(df.describe())\n",
        "\n",
        "\n",
        "# Provides count, number of unique values, the most frequent value, and its frequency.\n",
        "print(\"\\n--- Categorical Data Summary (df.describe(include='object')) ---\")\n",
        "print(df.describe(include='object'))"
      ],
      "metadata": {
        "colab": {
          "base_uri": "https://localhost:8080/"
        },
        "id": "4G_9P7J81BFS",
        "outputId": "59574c07-550c-47b5-eacc-b6e2649b6584"
      },
      "execution_count": null,
      "outputs": [
        {
          "output_type": "stream",
          "name": "stdout",
          "text": [
            "\n",
            "--- Numerical Data Summary (df.describe()) ---\n",
            "            Quantity                    InvoiceDate      UnitPrice  \\\n",
            "count  541909.000000                         541909  541909.000000   \n",
            "mean        9.552250  2011-07-04 13:34:57.156386048       4.611114   \n",
            "min    -80995.000000            2010-12-01 08:26:00  -11062.060000   \n",
            "25%         1.000000            2011-03-28 11:34:00       1.250000   \n",
            "50%         3.000000            2011-07-19 17:17:00       2.080000   \n",
            "75%        10.000000            2011-10-19 11:27:00       4.130000   \n",
            "max     80995.000000            2011-12-09 12:50:00   38970.000000   \n",
            "std       218.081158                            NaN      96.759853   \n",
            "\n",
            "          CustomerID  \n",
            "count  406829.000000  \n",
            "mean    15287.690570  \n",
            "min     12346.000000  \n",
            "25%     13953.000000  \n",
            "50%     15152.000000  \n",
            "75%     16791.000000  \n",
            "max     18287.000000  \n",
            "std      1713.600303  \n",
            "\n",
            "--- Categorical Data Summary (df.describe(include='object')) ---\n",
            "        InvoiceNo StockCode                         Description  \\\n",
            "count      541909    541909                              540455   \n",
            "unique      25900      4070                                4223   \n",
            "top        573585    85123A  WHITE HANGING HEART T-LIGHT HOLDER   \n",
            "freq         1114      2313                                2369   \n",
            "\n",
            "               Country  \n",
            "count           541909  \n",
            "unique              38  \n",
            "top     United Kingdom  \n",
            "freq            495478  \n"
          ]
        }
      ]
    },
    {
      "cell_type": "code",
      "source": [
        "# --- Count of Missing Values per Column ---\n",
        "print(\"\\n--- Missing Value Count ---\")\n",
        "missing_values = df.isnull().sum()\n",
        "print(missing_values[missing_values > 0]) # Only show columns with missing values\n",
        "\n",
        "# --- Visualize the Missing Values ---\n",
        "if missing_values.sum() > 0:\n",
        "    plt.figure(figsize=(12, 7))\n",
        "    sns.barplot(x=missing_values.index, y=missing_values.values)\n",
        "    plt.xticks(rotation=45)\n",
        "    plt.title('Count of Missing Values in Each Column')\n",
        "    plt.ylabel('Number of Missing Values')\n",
        "    plt.show()\n",
        "else:\n",
        "    print(\"\\n✅ No missing values found in the dataset.\")"
      ],
      "metadata": {
        "colab": {
          "base_uri": "https://localhost:8080/",
          "height": 783
        },
        "id": "JcOzV2k91BCm",
        "outputId": "06174ede-7807-4bb0-d634-9ed7ae72c7d5"
      },
      "execution_count": null,
      "outputs": [
        {
          "output_type": "stream",
          "name": "stdout",
          "text": [
            "\n",
            "--- Missing Value Count ---\n",
            "Description      1454\n",
            "CustomerID     135080\n",
            "dtype: int64\n"
          ]
        },
        {
          "output_type": "display_data",
          "data": {
            "text/plain": [
              "<Figure size 1200x700 with 1 Axes>"
            ],
            "image/png": "[encoded data removed]"
          },
          "metadata": {}
        }
      ]
    },
    {
      "cell_type": "code",
      "source": [
        "!pip install holidays\n",
        "# use for which day is holiday in western culture"
      ],
      "metadata": {
        "colab": {
          "base_uri": "https://localhost:8080/"
        },
        "id": "JIjpDny05yik",
        "outputId": "ef815e98-c0f7-4aa8-e43b-ad1810f29194"
      },
      "execution_count": null,
      "outputs": [
        {
          "output_type": "stream",
          "name": "stdout",
          "text": [
            "Requirement already satisfied: holidays in /usr/local/lib/python3.12/dist-packages (0.80)\n",
            "Requirement already satisfied: python-dateutil in /usr/local/lib/python3.12/dist-packages (from holidays) (2.9.0.post0)\n",
            "Requirement already satisfied: six>=1.5 in /usr/local/lib/python3.12/dist-packages (from python-dateutil->holidays) (1.17.0)\n"
          ]
        }
      ]
    },
    {
      "cell_type": "code",
      "source": [
        "# @title\n",
        "# Import the holidays library\n",
        "import holidays\n",
        "\n",
        "# Get all public holidays for England (part of the UK) for the year 2011\n",
        "# 'GB' is the country code, 'ENG' is the subdivision for England\n",
        "uk_holidays_2011 = holidays.country_holidays('GB', subdiv='ENG', years=2011)\n",
        "\n",
        "# Display the holidays that were found\n",
        "print(\"--- UK (England) Public Holidays in 2011 ---\")\n",
        "for holiday_date, holiday_name in uk_holidays_2011.items():\n",
        "    print(f\"{holiday_date}: {holiday_name}\")\n",
        "\n",
        "# You can get just the dates into a list for later use like this:\n",
        "holiday_dates = list(uk_holidays_2011.keys())\n",
        "print(\"\\n--- List of just the dates ---\")\n",
        "print(holiday_dates)"
      ],
      "metadata": {
        "colab": {
          "base_uri": "https://localhost:8080/"
        },
        "id": "EyPgDc9K5ygd",
        "outputId": "b91b7dd1-2929-40d2-d110-2be2d2131eda"
      },
      "execution_count": null,
      "outputs": [
        {
          "output_type": "stream",
          "name": "stdout",
          "text": [
            "--- UK (England) Public Holidays in 2011 ---\n",
            "2011-04-22: Good Friday\n",
            "2011-05-02: May Day\n",
            "2011-05-30: Spring Bank Holiday\n",
            "2011-04-29: Wedding of William and Catherine\n",
            "2011-01-01: New Year's Day\n",
            "2011-01-03: New Year's Day (observed)\n",
            "2011-12-25: Christmas Day\n",
            "2011-12-27: Christmas Day (observed)\n",
            "2011-12-26: Boxing Day\n",
            "2011-04-25: Easter Monday\n",
            "2011-08-29: Late Summer Bank Holiday\n",
            "\n",
            "--- List of just the dates ---\n",
            "[datetime.date(2011, 4, 22), datetime.date(2011, 5, 2), datetime.date(2011, 5, 30), datetime.date(2011, 4, 29), datetime.date(2011, 1, 1), datetime.date(2011, 1, 3), datetime.date(2011, 12, 25), datetime.date(2011, 12, 27), datetime.date(2011, 12, 26), datetime.date(2011, 4, 25), datetime.date(2011, 8, 29)]\n"
          ]
        }
      ]
    },
    {
      "cell_type": "code",
      "source": [
        "# why me make sales column :- We create the Sales column because it represents the target variable—the specific value our machine learning model is trying to predict.\n",
        "\n",
        "\n",
        "\n",
        "# Create a 'Sales' column\n",
        "df['Sales'] = df['Quantity'] * df['UnitPrice']\n"
      ],
      "metadata": {
        "id": "cPDssuav8PB2"
      },
      "execution_count": null,
      "outputs": []
    },
    {
      "cell_type": "code",
      "source": [
        "# Set 'InvoiceDate' as the index to work with dates\n",
        "df['InvoiceDate'] = pd.to_datetime(df['InvoiceDate'])\n",
        "df.set_index('InvoiceDate', inplace=True)\n",
        "\n",
        "# Resample to a daily frequency ('D') and sum the 'Sales'\n",
        "daily_sales = df['Sales'].resample('D').sum()\n",
        "print(\"✅ Part 2: Data aggregated to daily sales successfully.\")"
      ],
      "metadata": {
        "colab": {
          "base_uri": "https://localhost:8080/"
        },
        "id": "0rr6MrGc8SXT",
        "outputId": "aa2bc0ba-4d8a-4992-cbf0-f4729374f139"
      },
      "execution_count": null,
      "outputs": [
        {
          "output_type": "stream",
          "name": "stdout",
          "text": [
            "✅ Part 2: Data aggregated to daily sales successfully.\n"
          ]
        }
      ]
    },
    {
      "cell_type": "code",
      "source": [
        "import holidays\n",
        "import pandas as pd\n",
        "\n",
        "# First, let's regenerate the holiday list to make sure we have it\n",
        "uk_holidays_2011 = holidays.country_holidays('GB', subdiv='ENG', years=2011)\n",
        "holiday_dates = list(uk_holidays_2011.keys())\n",
        "print(\"Re-creating the 'features' DataFrame...\")\n",
        "features = pd.DataFrame(daily_sales)\n",
        "features.rename(columns={'Sales': 'sales'}, inplace=True)\n",
        "# --- Create the 'is_holiday' column in the 'features' DataFrame ---\n",
        "# We access the date part of the 'features' DataFrame's index using .dt.date\n",
        "# .isin(holiday_dates) checks if each date is in our list, returning True or False.\n",
        "# .astype(int) converts True/False into 1/0.\n",
        "features['is_holiday'] = features.index.to_series().dt.date.isin(holiday_dates).astype(int)\n",
        "\n",
        "# --- Verify the result ---\n",
        "# Let's look at the days that were flagged as holidays to confirm it worked.\n",
        "print(\"--- Days flagged as public holidays in features DataFrame ---\")\n",
        "# We need to filter the features DataFrame by date to check specific holidays\n",
        "print(features.loc[features['is_holiday'] == 1][['sales', 'is_holiday']].head())\n",
        "\n",
        "# You can also check a specific date, like Christmas (if it's in the features index)\n",
        "# Note: The 'features' DataFrame only goes up to Dec 9, 2011 based on the last output.\n",
        "# So, checking Christmas 2011 directly might not show results unless your data includes it.\n",
        "# Let's check a date that should be a holiday within the data range, e.g., May 2nd, 2011.\n",
        "if '2011-05-02' in features.index:\n",
        "    print(\"\\n--- Verifying a specific holiday (e.g., May 2, 2011) ---\")\n",
        "    print(features.loc['2011-05-02'][['sales', 'is_holiday']])\n",
        "else:\n",
        "    print(\"\\n--- May 2, 2011 is not in the index of the features DataFrame ---\")"
      ],
      "metadata": {
        "colab": {
          "base_uri": "https://localhost:8080/"
        },
        "id": "YZApsqun5yeU",
        "outputId": "cfe520fb-ced8-4293-f20c-3e3397748fa8"
      },
      "execution_count": null,
      "outputs": [
        {
          "output_type": "stream",
          "name": "stdout",
          "text": [
            "Re-creating the 'features' DataFrame...\n",
            "--- Days flagged as public holidays in features DataFrame ---\n",
            "             sales  is_holiday\n",
            "InvoiceDate                   \n",
            "2011-01-01     0.0           1\n",
            "2011-01-03     0.0           1\n",
            "2011-04-22     0.0           1\n",
            "2011-04-25     0.0           1\n",
            "2011-04-29     0.0           1\n",
            "\n",
            "--- Verifying a specific holiday (e.g., May 2, 2011) ---\n",
            "sales         0.0\n",
            "is_holiday    1.0\n",
            "Name: 2011-05-02 00:00:00, dtype: float64\n"
          ]
        }
      ]
    },
    {
      "cell_type": "code",
      "source": [
        "import pandas as pd\n",
        "import numpy as np\n",
        "\n",
        "# This code assumes your 'features' DataFrame with a datetime index already exists.\n",
        "\n",
        "# --- Engineer 'days_until_christmas' ---\n",
        "# Create a series of this year's and next year's Christmas dates\n",
        "christmas_this_year = pd.to_datetime(features.index.year.astype(str) + '-12-25')\n",
        "christmas_next_year = pd.to_datetime((features.index.year + 1).astype(str) + '-12-25')\n",
        "\n",
        "# If the date is past this year's Christmas, the target is next year's Christmas\n",
        "next_christmas = np.where(features.index.to_series().dt.tz_localize(None) > christmas_this_year,\n",
        "                          christmas_next_year,\n",
        "                          christmas_this_year)\n",
        "\n",
        "# Calculate the difference in days\n",
        "features['days_until_christmas'] = (pd.to_datetime(next_christmas) - features.index.to_series().dt.tz_localize(None)).dt.days\n",
        "\n",
        "# --- Engineer 'days_after_christmas' ---\n",
        "# Create a series of this year's and last year's Christmas dates\n",
        "christmas_last_year = pd.to_datetime((features.index.year - 1).astype(str) + '-12-25')\n",
        "\n",
        "# If the date is before this year's Christmas, the target is last year's Christmas\n",
        "last_christmas = np.where(features.index.to_series().dt.tz_localize(None) < christmas_this_year,\n",
        "                         christmas_last_year,\n",
        "                         christmas_this_year)\n",
        "\n",
        "# Calculate the difference in days\n",
        "features['days_after_christmas'] = (features.index.to_series().dt.tz_localize(None) - pd.to_datetime(last_christmas)).dt.days\n",
        "\n",
        "# --- Verify the results ---\n",
        "print(\"--- Verifying Proximity Features around Christmas 2010 ---\")\n",
        "# Let's look at the data from Dec 20th, 2010 to Jan 3rd, 2011\n",
        "verification_slice = features.loc['2010-12-20':'2011-01-03']\n",
        "print(verification_slice[['sales', 'days_until_christmas', 'days_after_christmas']])"
      ],
      "metadata": {
        "colab": {
          "base_uri": "https://localhost:8080/"
        },
        "id": "r8YYknAE5ybY",
        "outputId": "995c839b-c056-488a-aec9-6c0dc0fd6290"
      },
      "execution_count": null,
      "outputs": [
        {
          "output_type": "stream",
          "name": "stdout",
          "text": [
            "--- Verifying Proximity Features around Christmas 2010 ---\n",
            "                sales  days_until_christmas  days_after_christmas\n",
            "InvoiceDate                                                      \n",
            "2010-12-20   24741.75                     5                   360\n",
            "2010-12-21   47097.94                     4                   361\n",
            "2010-12-22    6134.57                     3                   362\n",
            "2010-12-23   11796.31                     2                   363\n",
            "2010-12-24       0.00                     1                   364\n",
            "2010-12-25       0.00                     0                     0\n",
            "2010-12-26       0.00                   364                     1\n",
            "2010-12-27       0.00                   363                     2\n",
            "2010-12-28       0.00                   362                     3\n",
            "2010-12-29       0.00                   361                     4\n",
            "2010-12-30       0.00                   360                     5\n",
            "2010-12-31       0.00                   359                     6\n",
            "2011-01-01       0.00                   358                     7\n",
            "2011-01-02       0.00                   357                     8\n",
            "2011-01-03       0.00                   356                     9\n"
          ]
        }
      ]
    },
    {
      "cell_type": "code",
      "source": [
        "features['dayofweek'] = features.index.dayofweek\n",
        "features['month'] = features.index.month\n",
        "features['year'] = features.index.year\n",
        "features['quarter'] = features.index.quarter\n",
        "features['sales_lag_7'] = features['sales'].shift(7)\n",
        "features['rolling_mean_7'] = features['sales'].rolling(window=7).mean()"
      ],
      "metadata": {
        "id": "SVqKGaj99nIh"
      },
      "execution_count": null,
      "outputs": []
    },
    {
      "cell_type": "code",
      "source": [
        "import numpy as np\n",
        "\n",
        "# This code assumes your 'features' DataFrame with a datetime index already exists.\n",
        "\n",
        "# --- Engineer cyclical features for 'month' ---\n",
        "# There are 12 months in a year (the period)\n",
        "features['month_sin'] = np.sin(2 * np.pi * features['month'] / 12)\n",
        "features['month_cos'] = np.cos(2 * np.pi * features['month'] / 12)\n",
        "\n",
        "# --- Engineer cyclical features for 'dayofweek' ---\n",
        "# There are 7 days in a week (the period)\n",
        "features['dayofweek_sin'] = np.sin(2 * np.pi * features['dayofweek'] / 7)\n",
        "features['dayofweek_cos'] = np.cos(2 * np.pi * features['dayofweek'] / 7)\n",
        "\n",
        "# --- Verify the result ---\n",
        "# Display the first 5 rows to see the new columns\n",
        "print(\"--- Features DataFrame with new cyclical columns ---\")\n",
        "print(features[['month', 'month_sin', 'month_cos', 'dayofweek_sin', 'dayofweek_cos']].head())"
      ],
      "metadata": {
        "colab": {
          "base_uri": "https://localhost:8080/"
        },
        "id": "Owrm0W0D9iNK",
        "outputId": "022fc4a8-b0c6-4f52-e49d-3b7c4d2ae9b0"
      },
      "execution_count": null,
      "outputs": [
        {
          "output_type": "stream",
          "name": "stdout",
          "text": [
            "--- Features DataFrame with new cyclical columns ---\n",
            "             month     month_sin  month_cos  dayofweek_sin  dayofweek_cos\n",
            "InvoiceDate                                                              \n",
            "2010-12-01      12 -2.449294e-16        1.0       0.974928      -0.222521\n",
            "2010-12-02      12 -2.449294e-16        1.0       0.433884      -0.900969\n",
            "2010-12-03      12 -2.449294e-16        1.0      -0.433884      -0.900969\n",
            "2010-12-04      12 -2.449294e-16        1.0      -0.974928      -0.222521\n",
            "2010-12-05      12 -2.449294e-16        1.0      -0.781831       0.623490\n"
          ]
        }
      ]
    },
    {
      "cell_type": "code",
      "source": [
        "# Plot the average sin/cos values for each month\n",
        "features.groupby('month')[['month_sin', 'month_cos']].mean().plot(\n",
        "    kind='scatter',\n",
        "    x='month_sin',\n",
        "    y='month_cos',\n",
        "    figsize=(7, 7),\n",
        "    title='Cyclical Feature Plot for Months'\n",
        ").set_aspect('equal')\n",
        "plt.show()"
      ],
      "metadata": {
        "colab": {
          "base_uri": "https://localhost:8080/",
          "height": 641
        },
        "id": "KI_HmiO39rpl",
        "outputId": "64c5214c-5e87-4d32-ab6e-518197851a91"
      },
      "execution_count": null,
      "outputs": [
        {
          "output_type": "display_data",
          "data": {
            "text/plain": [
              "<Figure size 700x700 with 1 Axes>"
            ],
            "image/png": "[encoded data removed]"
          },
          "metadata": {}
        }
      ]
    },
    {
      "cell_type": "code",
      "source": [
        "# This code assumes your 'features' DataFrame now contains all the engineered features.\n",
        "\n",
        "# Define the list of all features to be used\n",
        "FEATURE_COLS = [\n",
        "    # Original time-based features\n",
        "    'dayofweek', 'month', 'year', 'quarter',\n",
        "\n",
        "    # Lag and Rolling Window features\n",
        "    'sales_lag_7', 'rolling_mean_7',\n",
        "\n",
        "    # Holiday and Proximity features\n",
        "    'is_holiday', 'days_until_christmas', 'days_after_christmas',\n",
        "\n",
        "    # New cyclical features\n",
        "    'month_sin', 'month_cos', 'dayofweek_sin', 'dayofweek_cos'\n",
        "]\n",
        "\n",
        "# Define our target variable\n",
        "TARGET_COL = 'sales'\n",
        "\n",
        "# Drop any remaining rows with missing values from lag/rolling features\n",
        "features.dropna(inplace=True)\n",
        "\n",
        "print(\"✅ Final feature set is defined.\")"
      ],
      "metadata": {
        "colab": {
          "base_uri": "https://localhost:8080/"
        },
        "id": "phHRTTMz-ASa",
        "outputId": "82051a4e-ebdc-44eb-a894-01ab3b6466b7"
      },
      "execution_count": null,
      "outputs": [
        {
          "output_type": "stream",
          "name": "stdout",
          "text": [
            "✅ Final feature set is defined.\n"
          ]
        }
      ]
    },
    {
      "cell_type": "code",
      "source": [
        "import pandas as pd\n",
        "\n",
        "# This code assumes you have a pandas Series called 'daily_sales'\n",
        "# with a datetime index and the total sales for each day.\n",
        "\n",
        "# Create a new DataFrame for our features\n",
        "features = pd.DataFrame(daily_sales)\n",
        "features.rename(columns={features.columns[0]: 'sales'}, inplace=True)\n",
        "\n",
        "# --- 1. Add Lag Features ---\n",
        "# These features give the model short-term memory.\n",
        "features['lag_1'] = features['sales'].shift(1) # Sales from yesterday\n",
        "features['lag_2'] = features['sales'].shift(2) # Sales from 2 days ago\n",
        "features['lag_3'] = features['sales'].shift(3) # Sales from 3 days ago\n",
        "features['lag_7'] = features['sales'].shift(7) # Sales from the same day last week\n",
        "\n",
        "# --- 2. Add Rolling Window Features ---\n",
        "# These features describe the recent trend and volatility over the last 7 days.\n",
        "features['rolling_mean_7'] = features['sales'].rolling(window=7).mean()\n",
        "features['rolling_median_7'] = features['sales'].rolling(window=7).median()\n",
        "features['rolling_std_7'] = features['sales'].rolling(window=7).std()\n",
        "features['rolling_sum_7'] = features['sales'].rolling(window=7).sum()\n",
        "\n",
        "# --- 3. Verify the result ---\n",
        "# Display the top 10 rows. Note the 'NaN' values are expected at the beginning.\n",
        "print(features.head(10))"
      ],
      "metadata": {
        "colab": {
          "base_uri": "https://localhost:8080/"
        },
        "id": "4O9Q1V-D_Y7G",
        "outputId": "32349933-e314-43b8-c6ae-3d4bf98877b0"
      },
      "execution_count": null,
      "outputs": [
        {
          "output_type": "stream",
          "name": "stdout",
          "text": [
            "                sales     lag_1     lag_2     lag_3     lag_7  rolling_mean_7  \\\n",
            "InvoiceDate                                                                     \n",
            "2010-12-01   58635.56       NaN       NaN       NaN       NaN             NaN   \n",
            "2010-12-02   46207.28  58635.56       NaN       NaN       NaN             NaN   \n",
            "2010-12-03   45620.46  46207.28  58635.56       NaN       NaN             NaN   \n",
            "2010-12-04       0.00  45620.46  46207.28  58635.56       NaN             NaN   \n",
            "2010-12-05   31383.95      0.00  45620.46  46207.28       NaN             NaN   \n",
            "2010-12-06   53860.18  31383.95      0.00  45620.46       NaN             NaN   \n",
            "2010-12-07   45059.05  53860.18  31383.95      0.00       NaN    40109.497143   \n",
            "2010-12-08   44189.84  45059.05  53860.18  31383.95  58635.56    38045.822857   \n",
            "2010-12-09   52532.13  44189.84  45059.05  53860.18  46207.28    38949.372857   \n",
            "2010-12-10   57404.91  52532.13  44189.84  45059.05  45620.46    40632.865714   \n",
            "\n",
            "             rolling_median_7  rolling_std_7  rolling_sum_7  \n",
            "InvoiceDate                                                  \n",
            "2010-12-01                NaN            NaN            NaN  \n",
            "2010-12-02                NaN            NaN            NaN  \n",
            "2010-12-03                NaN            NaN            NaN  \n",
            "2010-12-04                NaN            NaN            NaN  \n",
            "2010-12-05                NaN            NaN            NaN  \n",
            "2010-12-06                NaN            NaN            NaN  \n",
            "2010-12-07           45620.46   19618.252381      280766.48  \n",
            "2010-12-08           45059.05   18041.054528      266320.76  \n",
            "2010-12-09           45059.05   18665.506443      272645.61  \n",
            "2010-12-10           45059.05   19860.644479      284430.06  \n"
          ]
        }
      ]
    },
    {
      "cell_type": "code",
      "source": [
        "import holidays\n",
        "\n",
        "# This code assumes your 'features' DataFrame from the previous step already exists.\n",
        "\n",
        "# --- 1. Add Time-Based Features ---\n",
        "# These features help the model learn seasonal patterns.\n",
        "features['dayofweek'] = features.index.dayofweek # Monday=0, Sunday=6\n",
        "features['month'] = features.index.month\n",
        "features['year'] = features.index.year\n",
        "features['quarter'] = features.index.quarter\n",
        "\n",
        "# --- 2. Add Holiday Feature ---\n",
        "# Get a list of all UK public holidays for 2011\n",
        "uk_holidays_2011 = holidays.country_holidays('GB', subdiv='ENG', years=2011)\n",
        "holiday_dates = list(uk_holidays_2011.keys())\n",
        "\n",
        "# Create a binary flag: 1 if the day is a holiday, 0 otherwise\n",
        "features['is_holiday'] = features.index.to_series().dt.date.isin(holiday_dates).astype(int)\n",
        "\n",
        "# --- 3. Verify the new columns ---\n",
        "# We select a few columns, including the new ones, to display.\n",
        "print(\"--- DataFrame with Time and Holiday Features Added ---\")\n",
        "print(features[['sales', 'dayofweek', 'month', 'is_holiday']].head())\n",
        "\n",
        "# Verify that a known holiday was flagged correctly\n",
        "print(\"\\n--- Checking a known holiday (May 2, 2011) ---\")\n",
        "print(features.loc['2011-05-02'][['sales', 'is_holiday']])"
      ],
      "metadata": {
        "colab": {
          "base_uri": "https://localhost:8080/"
        },
        "id": "OmVUkyWx_Y47",
        "outputId": "ab61481a-1349-40ca-ea97-376e262e78fd"
      },
      "execution_count": null,
      "outputs": [
        {
          "output_type": "stream",
          "name": "stdout",
          "text": [
            "--- DataFrame with Time and Holiday Features Added ---\n",
            "                sales  dayofweek  month  is_holiday\n",
            "InvoiceDate                                        \n",
            "2010-12-01   58635.56          2     12           0\n",
            "2010-12-02   46207.28          3     12           0\n",
            "2010-12-03   45620.46          4     12           0\n",
            "2010-12-04       0.00          5     12           0\n",
            "2010-12-05   31383.95          6     12           0\n",
            "\n",
            "--- Checking a known holiday (May 2, 2011) ---\n",
            "sales         0.0\n",
            "is_holiday    1.0\n",
            "Name: 2011-05-02 00:00:00, dtype: float64\n"
          ]
        }
      ]
    },
    {
      "cell_type": "code",
      "source": [
        "# This code assumes your 'features' DataFrame is ready.\n",
        "\n",
        "# --- 1. Drop rows with missing values ---\n",
        "features.dropna(inplace=True)\n",
        "\n",
        "# --- 2. Define Features (X) and Target (y) ---\n",
        "TARGET_COL = 'sales'\n",
        "# Use all columns except the target as features\n",
        "FEATURE_COLS = [col for col in features.columns if col != TARGET_COL]\n",
        "\n",
        "# --- 3. Perform a chronological train-test split ---\n",
        "split_date = '2011-10-01'\n",
        "train = features.loc[features.index < split_date]\n",
        "test = features.loc[features.index >= split_date]\n",
        "\n",
        "X_train = train[FEATURE_COLS]\n",
        "y_train = train[TARGET_COL]\n",
        "X_test = test[FEATURE_COLS]\n",
        "y_test = test[TARGET_COL]\n",
        "\n",
        "print(f\"Training data shape: {X_train.shape}\")\n",
        "print(f\"Testing data shape: {X_test.shape}\")"
      ],
      "metadata": {
        "colab": {
          "base_uri": "https://localhost:8080/"
        },
        "id": "rffDe3tR_Y2l",
        "outputId": "df277b6c-e620-40dc-dc00-16a91fd68e2c"
      },
      "execution_count": null,
      "outputs": [
        {
          "output_type": "stream",
          "name": "stdout",
          "text": [
            "Training data shape: (297, 13)\n",
            "Testing data shape: (70, 13)\n"
          ]
        }
      ]
    },
    {
      "cell_type": "code",
      "source": [
        "from sklearn.model_selection import GridSearchCV\n",
        "import xgboost as xgb\n",
        "import time\n",
        "\n",
        "# This assumes you have X_train and y_train ready.\n",
        "\n",
        "# 1. Define the \"Grid\" of hyperparameters to test\n",
        "param_grid = {\n",
        "    'n_estimators': [500, 1000],          # Number of trees\n",
        "    'learning_rate': [0.01, 0.05, 0.1],   # How quickly the model learns\n",
        "    'max_depth': [3, 5, 7],               # The complexity of each tree\n",
        "    'colsample_bytree': [0.7, 1.0]        # Fraction of features used per tree\n",
        "}\n",
        "\n",
        "# 2. Set up the GridSearchCV tool\n",
        "# We are optimizing the XGBoost model here.\n",
        "# cv=3 means 3-fold cross-validation.\n",
        "# scoring='r2' tells it to find the settings that maximize the R-squared score.\n",
        "grid_search = GridSearchCV(\n",
        "    estimator=xgb.XGBRegressor(objective='reg:squarederror'),\n",
        "    param_grid=param_grid,\n",
        "    cv=3,\n",
        "    scoring='r2',\n",
        "    n_jobs=-1,\n",
        "    verbose=2\n",
        ")\n",
        "\n",
        "# 3. Run the Search\n",
        "print(\"--- Starting Grid Search for XGBoost ---\")\n",
        "start_time = time.time()\n",
        "grid_search.fit(X_train, y_train)\n",
        "end_time = time.time()\n",
        "\n",
        "print(f\"--- Grid Search Complete ---\")\n",
        "print(f\"Total time taken: {((end_time - start_time) / 60):.2f} minutes\")"
      ],
      "metadata": {
        "colab": {
          "base_uri": "https://localhost:8080/"
        },
        "id": "tgWS42hcAGNT",
        "outputId": "ecff7c13-521a-43b7-bbe2-825c87f8064a"
      },
      "execution_count": null,
      "outputs": [
        {
          "output_type": "stream",
          "name": "stdout",
          "text": [
            "--- Starting Grid Search for XGBoost ---\n",
            "Fitting 3 folds for each of 36 candidates, totalling 108 fits\n",
            "--- Grid Search Complete ---\n",
            "Total time taken: 0.85 minutes\n"
          ]
        }
      ]
    },
    {
      "cell_type": "code",
      "source": [
        "# Print the best combination of parameters found\n",
        "print(\"\\n--- Best Hyperparameters Found ---\")\n",
        "print(grid_search.best_params_)\n",
        "\n",
        "# Print the best R-squared score achieved during the search\n",
        "print(\"\\n--- Best R-squared Score (from cross-validation) ---\")\n",
        "print(f\"{grid_search.best_score_:.2f}\")"
      ],
      "metadata": {
        "colab": {
          "base_uri": "https://localhost:8080/"
        },
        "id": "cIUT7cOvAKCC",
        "outputId": "f899c212-0d47-4f31-fa76-1e00f728e47b"
      },
      "execution_count": null,
      "outputs": [
        {
          "output_type": "stream",
          "name": "stdout",
          "text": [
            "\n",
            "--- Best Hyperparameters Found ---\n",
            "{'colsample_bytree': 0.7, 'learning_rate': 0.01, 'max_depth': 5, 'n_estimators': 1000}\n",
            "\n",
            "--- Best R-squared Score (from cross-validation) ---\n",
            "0.59\n"
          ]
        }
      ]
    },
    {
      "cell_type": "code",
      "source": [
        "from sklearn.model_selection import GridSearchCV\n",
        "import lightgbm as lgb\n",
        "import time\n",
        "\n",
        "# 1. Define the \"Grid\" of hyperparameters to test\n",
        "param_grid = {\n",
        "    'n_estimators': [500, 1000],\n",
        "    'learning_rate': [0.01, 0.05, 0.1],\n",
        "    'max_depth': [3, 5, 7],\n",
        "    'num_leaves': [15, 31, 62] # Specific to LightGBM\n",
        "}\n",
        "\n",
        "# 2. Set up the GridSearchCV tool\n",
        "grid_search = GridSearchCV(\n",
        "    estimator=lgb.LGBMRegressor(objective='regression'),\n",
        "    param_grid=param_grid,\n",
        "    cv=3,\n",
        "    scoring='r2',\n",
        "    n_jobs=-1,\n",
        "    verbose=2\n",
        ")\n",
        "\n",
        "# 3. Run the Search\n",
        "print(\"\\n--- Starting Grid Search for LightGBM ---\")\n",
        "start_time = time.time()\n",
        "grid_search.fit(X_train, y_train)\n",
        "end_time = time.time()\n",
        "\n",
        "print(f\"--- Grid Search Complete ---\")\n",
        "print(f\"Total time taken: {((end_time - start_time) / 60):.2f} minutes\")\n",
        "\n",
        "\n",
        "# 4. Find the Best Model\n",
        "print(\"\\n--- Best Hyperparameters Found ---\")\n",
        "print(grid_search.best_params_)\n",
        "\n",
        "print(\"\\n--- Best R-squared Score (from cross-validation) ---\")\n",
        "print(f\"{grid_search.best_score_:.2f}\")"
      ],
      "metadata": {
        "collapsed": true,
        "id": "CogOYfTRAOZl"
      },
      "execution_count": null,
      "outputs": []
    },
    {
      "cell_type": "code",
      "source": [],
      "metadata": {
        "id": "FOrdDYHwAOXA"
      },
      "execution_count": null,
      "outputs": []
    },
    {
      "cell_type": "code",
      "source": [
        "# @title\n",
        "import lightgbm as lgb\n",
        "from sklearn.metrics import r2_score, mean_absolute_error\n",
        "\n",
        "# 1. Define the best parameters you found\n",
        "best_params = {\n",
        "    'learning_rate': 0.01,\n",
        "    'max_depth': 3,\n",
        "    'n_estimators': 1000,\n",
        "    'num_leaves': 15\n",
        "}\n",
        "\n",
        "# 2. Train the final model with these settings\n",
        "final_model = lgb.LGBMRegressor(objective='regression', **best_params)\n",
        "final_model.fit(X_train, y_train)\n",
        "\n",
        "# 3. Evaluate on the test set\n",
        "final_predictions = final_model.predict(X_test)\n",
        "final_r2 = r2_score(y_test, final_predictions)\n",
        "final_mae = mean_absolute_error(y_test, final_predictions)\n",
        "\n",
        "print(\"--- Final Champion Model Performance ---\")\n",
        "print(f\"Final R-squared (R²): {final_r2:.2f}\")\n",
        "print(f\"Final Mean Absolute Error (MAE): {final_mae:.2f}\")"
      ],
      "metadata": {
        "id": "-8vtAtaIAkgE"
      },
      "execution_count": null,
      "outputs": []
    },
    {
      "cell_type": "code",
      "source": [
        "import xgboost as xgb\n",
        "from sklearn.metrics import r2_score, mean_absolute_error, mean_squared_error\n",
        "import numpy as np\n",
        "\n",
        "# This code assumes you have run GridSearchCV and have the grid_search object,\n",
        "# along with X_train, y_train, X_test, and y_test.\n",
        "\n",
        "# --- 1. Get the Best Parameters ---\n",
        "# The best settings are stored in the .best_params_ attribute\n",
        "best_params = grid_search.best_params_\n",
        "print(f\"--- Using the best parameters found: {best_params} ---\")\n",
        "\n",
        "# --- 2. Train the Champion Model ---\n",
        "# Create a new model instance with the best parameters\n",
        "champion_model = xgb.XGBRegressor(objective='reg:squarederror', **best_params)\n",
        "\n",
        "print(\"\\nTraining the final champion model on the full training data...\")\n",
        "champion_model.fit(X_train, y_train)\n",
        "print(\"✅ Champion model trained successfully.\")\n",
        "\n",
        "# --- 3. Evaluate on the Test Set ---\n",
        "# Make final predictions on the unseen test data\n",
        "final_predictions = champion_model.predict(X_test)\n",
        "\n",
        "# Calculate final performance metrics\n",
        "final_r2 = r2_score(y_test, final_predictions)\n",
        "final_mae = mean_absolute_error(y_test, final_predictions)\n",
        "final_rmse = np.sqrt(mean_squared_error(y_test, final_predictions))\n",
        "\n",
        "print(\"\\n--- Final Model Performance on Test Set ---\")\n",
        "print(f\"R-squared (R²) Score: {final_r2:.2f}\")\n",
        "print(f\"Mean Absolute Error (MAE): {final_mae:.2f}\")\n",
        "print(f\"Root Mean Squared Error (RMSE): {final_rmse:.2f}\")"
      ],
      "metadata": {
        "colab": {
          "base_uri": "https://localhost:8080/"
        },
        "id": "1z9iZT1N-WOG",
        "outputId": "0eb512bc-9eb7-49dd-cfd2-bd79e15870ac"
      },
      "execution_count": null,
      "outputs": [
        {
          "output_type": "stream",
          "name": "stdout",
          "text": [
            "--- Using the best parameters found: {'learning_rate': 0.01, 'max_depth': 3, 'n_estimators': 500} ---\n",
            "\n",
            "Training the final champion model on the full training data...\n",
            "✅ Champion model trained successfully.\n",
            "\n",
            "--- Final Model Performance on Test Set ---\n",
            "R-squared (R²) Score: 0.59\n",
            "Mean Absolute Error (MAE): 10639.29\n",
            "Root Mean Squared Error (RMSE): 15446.04\n"
          ]
        }
      ]
    },
    {
      "cell_type": "markdown",
      "source": [
        "## i know r-squared is not much good but still i am learning mode so when i understand lots of concepts in ml, dl so i can try one more time to imporve this.\n"
      ],
      "metadata": {
        "id": "dE98aV5FGwWo"
      }
    },
    {
      "cell_type": "code",
      "source": [],
      "metadata": {
        "id": "c2S5HaUHG9aQ"
      },
      "execution_count": null,
      "outputs": []
    }
  ]
}